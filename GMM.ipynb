{
 "cells": [
  {
   "cell_type": "code",
   "execution_count": 2,
   "metadata": {},
   "outputs": [],
   "source": [
    "import numpy as np\n",
    "import pandas as pd\n",
    "import matplotlib.pyplot as plt\n",
    "from matplotlib.patches import Ellipse\n",
    "from sqlalchemy import create_engine\n",
    "from sklearn.preprocessing import StandardScaler\n",
    "from sklearn.mixture import GaussianMixture\n",
    "from sklearn.decomposition import PCA\n",
    "from sklearn import datasets, metrics"
   ]
  },
  {
   "cell_type": "markdown",
   "metadata": {},
   "source": [
    "### 1) Apply GMM to the heart disease data by setting n_components=2. \n",
    "Get ARI and silhoutte scores for your solution and compare it with those of the k-means and hierarchical clustering solutions that you implemented in the assignments of the previous checkpoints. Which algorithm does perform better?"
   ]
  },
  {
   "cell_type": "code",
   "execution_count": 6,
   "metadata": {},
   "outputs": [],
   "source": [
    "postgres_user = 'dsbc_student'\n",
    "postgres_pw = '7*.8G9QH21'\n",
    "postgres_host = '142.93.121.174'\n",
    "postgres_port = '5432'\n",
    "postgres_db = 'heartdisease'\n",
    "\n",
    "engine = create_engine('postgresql://{}:{}@{}:{}/{}'.format(\n",
    "postgres_user, postgres_pw, postgres_host, postgres_port, postgres_db))\n",
    "\n",
    "df = pd.read_sql_query('SELECT * FROM heartdisease', con=engine)\n",
    "\n",
    "engine.dispose()"
   ]
  },
  {
   "cell_type": "code",
   "execution_count": 7,
   "metadata": {},
   "outputs": [],
   "source": [
    "# Define the features and the outcome\n",
    "X = df.iloc[:, :13]\n",
    "y = df.iloc[:, 13]\n",
    "\n",
    "# Replace missing values (marked by ?) with a 0\n",
    "X = X.replace(to_replace='?', value=0)\n",
    "\n",
    "# Binarize y so that 1 means heart disease diagnosis and 0 means no diagnosis\n",
    "y = np.where(y > 0, 0, 1)"
   ]
  },
  {
   "cell_type": "code",
   "execution_count": 9,
   "metadata": {},
   "outputs": [
    {
     "name": "stdout",
     "output_type": "stream",
     "text": [
      "ARI: 0.4207322145049338\n",
      "Silhouette: 0.16118591340148433\n"
     ]
    }
   ],
   "source": [
    "scale = StandardScaler()\n",
    "scaled = scale.fit_transform(X)\n",
    "\n",
    "gmm = GaussianMixture(n_components=2)\n",
    "prediction = gmm.fit_predict(scaled)\n",
    "\n",
    "print('ARI: {}'.format(metrics.adjusted_rand_score(y, prediction)))\n",
    "print('Silhouette: {}'.format(metrics.silhouette_score(scaled, prediction, metric='euclidean')))"
   ]
  },
  {
   "cell_type": "markdown",
   "metadata": {},
   "source": [
    "This is an improvement from the heirarchical ranking, but just a hair worse than the scores produced by KMeans"
   ]
  },
  {
   "cell_type": "markdown",
   "metadata": {},
   "source": [
    "### 2) GMM implementation of scikit-learn has a parameter called covariance_type. This parameter determines the type of covariance parameters to use. Specifically, there are four types you can specify:\n",
    "\n",
    "#### a) full: This is the default. Each component has its own general covariance matrix."
   ]
  },
  {
   "cell_type": "code",
   "execution_count": 10,
   "metadata": {},
   "outputs": [],
   "source": [
    "# Default score is listed above "
   ]
  },
  {
   "cell_type": "markdown",
   "metadata": {},
   "source": [
    "#### b) tied: All components share the same general covariance matrix."
   ]
  },
  {
   "cell_type": "code",
   "execution_count": 11,
   "metadata": {},
   "outputs": [
    {
     "name": "stdout",
     "output_type": "stream",
     "text": [
      "ARI: 0.18389186035089963\n",
      "Silhouette: 0.13628813153331445\n"
     ]
    }
   ],
   "source": [
    "gmm = GaussianMixture(n_components=2, covariance_type='tied')\n",
    "prediction = gmm.fit_predict(scaled)\n",
    "\n",
    "print('ARI: {}'.format(metrics.adjusted_rand_score(y, prediction)))\n",
    "print('Silhouette: {}'.format(metrics.silhouette_score(scaled, prediction, metric='euclidean')))"
   ]
  },
  {
   "cell_type": "markdown",
   "metadata": {},
   "source": [
    "#### c) diag: Each component has its own diagonal covariance matrix."
   ]
  },
  {
   "cell_type": "code",
   "execution_count": 12,
   "metadata": {},
   "outputs": [
    {
     "name": "stdout",
     "output_type": "stream",
     "text": [
      "ARI: 0.37878842718089933\n",
      "Silhouette: 0.15836933745078682\n"
     ]
    }
   ],
   "source": [
    "gmm = GaussianMixture(n_components=2, covariance_type='diag')\n",
    "prediction = gmm.fit_predict(scaled)\n",
    "\n",
    "print('ARI: {}'.format(metrics.adjusted_rand_score(y, prediction)))\n",
    "print('Silhouette: {}'.format(metrics.silhouette_score(scaled, prediction, metric='euclidean')))"
   ]
  },
  {
   "cell_type": "markdown",
   "metadata": {},
   "source": [
    "#### d) spherical: Each component has its own single variance."
   ]
  },
  {
   "cell_type": "code",
   "execution_count": 13,
   "metadata": {},
   "outputs": [
    {
     "name": "stdout",
     "output_type": "stream",
     "text": [
      "ARI: 0.20765243525722465\n",
      "Silhouette: 0.12468753110276873\n"
     ]
    }
   ],
   "source": [
    "gmm = GaussianMixture(n_components=2, covariance_type='spherical')\n",
    "prediction = gmm.fit_predict(scaled)\n",
    "\n",
    "print('ARI: {}'.format(metrics.adjusted_rand_score(y, prediction)))\n",
    "print('Silhouette: {}'.format(metrics.silhouette_score(scaled, prediction, metric='euclidean')))"
   ]
  },
  {
   "cell_type": "markdown",
   "metadata": {},
   "source": [
    "Out of these 4 covariance types, it seems like 'full' produced the one with the highest ARI and Silhouette scores"
   ]
  },
  {
   "cell_type": "code",
   "execution_count": null,
   "metadata": {},
   "outputs": [],
   "source": []
  }
 ],
 "metadata": {
  "kernelspec": {
   "display_name": "Python 3",
   "language": "python",
   "name": "python3"
  },
  "language_info": {
   "codemirror_mode": {
    "name": "ipython",
    "version": 3
   },
   "file_extension": ".py",
   "mimetype": "text/x-python",
   "name": "python",
   "nbconvert_exporter": "python",
   "pygments_lexer": "ipython3",
   "version": "3.7.6"
  }
 },
 "nbformat": 4,
 "nbformat_minor": 4
}
